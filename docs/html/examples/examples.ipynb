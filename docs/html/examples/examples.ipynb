{
 "cells": [
  {
   "cell_type": "markdown",
   "metadata": {},
   "source": [
    "# Some examples of using the functions together"
   ]
  },
  {
   "cell_type": "markdown",
   "metadata": {},
   "source": [
    "### Getting the imports right for Sphinx "
   ]
  },
  {
   "cell_type": "code",
   "execution_count": 5,
   "metadata": {},
   "outputs": [],
   "source": [
    "import sys, os, pathlib\n",
    "sys.path.insert(0, str(pathlib.Path(os.path.realpath('__file__')).parents[2]))\n",
    "\n",
    "from hfkpy.helpers.mathematics import add, multiply\n",
    "from hfkpy.members.builders import hello_world"
   ]
  },
  {
   "cell_type": "markdown",
   "metadata": {},
   "source": [
    "### Using the functions together"
   ]
  },
  {
   "cell_type": "code",
   "execution_count": 8,
   "metadata": {},
   "outputs": [
    {
     "name": "stdout",
     "output_type": "stream",
     "text": [
      "When I add 1, 2, and 3 I get 6. When I multiply 2 and 8 I get 16\n",
      "hello world\n"
     ]
    }
   ],
   "source": [
    "print(f\"When I add 1, 2, and 3 I get {add(1, 2, 3)}. When I multiply 2 and 8 I get {multiply(2, 8)}.\")\n",
    "hello_world()"
   ]
  }
 ],
 "metadata": {
  "interpreter": {
   "hash": "7a75cff7647c2a60606e45b52576a7c541eb671616a1cf6d850b474864395f3f"
  },
  "kernelspec": {
   "display_name": "Python 3.9.5 ('envhfkpy')",
   "language": "python",
   "name": "python3"
  },
  "language_info": {
   "codemirror_mode": {
    "name": "ipython",
    "version": 3
   },
   "file_extension": ".py",
   "mimetype": "text/x-python",
   "name": "python",
   "nbconvert_exporter": "python",
   "pygments_lexer": "ipython3",
   "version": "3.9.5"
  }
 },
 "nbformat": 4,
 "nbformat_minor": 2
}
